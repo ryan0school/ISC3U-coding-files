from google.colab import files
import pandas as pd
import matplotlib.pyplot as plt

#Upload the file
uploaded_file = files.upload()

#the CSV file
data = pd.read_csv("population_data.csv")
print(data)

#Extract the data
x = data["Year"]
y = data["Population"]

#Define the graph functions
def bar_graph():
    plt.bar(x, y)
    plt.title("Bar Graph Population")
    plt.xlabel("Year")
    plt.ylabel("Population")
    plt.show()

def line_graph():
    plt.plot(x, y)
    plt.title("Line Graph Population")
    plt.xlabel("Year")
    plt.ylabel("Population")
    plt.show()

#Asking the user which graph they want to see
user_input = input("Enter Bar Graph Population or Line Graph Population: ")

if user_input == "Bar Graph Population":
    create_bar_graph()
elif user_input == "Line Graph Population":
    create_line_graph()
else:
    print("Invalid input. Please try again.")
