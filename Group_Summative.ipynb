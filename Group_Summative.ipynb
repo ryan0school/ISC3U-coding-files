{
  "nbformat": 4,
  "nbformat_minor": 0,
  "metadata": {
    "colab": {
      "provenance": [],
      "include_colab_link": true
    },
    "kernelspec": {
      "name": "python3",
      "display_name": "Python 3"
    },
    "language_info": {
      "name": "python"
    }
  },
  "cells": [
    {
      "cell_type": "markdown",
      "metadata": {
        "id": "view-in-github",
        "colab_type": "text"
      },
      "source": [
        "<a href=\"https://colab.research.google.com/github/ryan0school/ISC3U-coding-files/blob/main/Group_Summative.ipynb\" target=\"_parent\"><img src=\"https://colab.research.google.com/assets/colab-badge.svg\" alt=\"Open In Colab\"/></a>"
      ]
    },
    {
      "cell_type": "code",
      "execution_count": null,
      "metadata": {
        "id": "1M8496WfL-et",
        "colab": {
          "base_uri": "https://localhost:8080/"
        },
        "outputId": "e42cea9c-2733-48e3-ad74-b28fbf190cd3"
      },
      "outputs": [
        {
          "output_type": "stream",
          "name": "stdout",
          "text": [
            "Enter your choice (rock, paper, or scissors): paper\n",
            "You chose paper.\n",
            "The computer chose rock.\n",
            "You win!\n"
          ]
        }
      ],
      "source": [
        "import random\n",
        "\n",
        "def get_user_choice():\n",
        "    options = ['rock', 'paper', 'scissors']\n",
        "    user_choice = input(\"Enter your choice (rock, paper, or scissors): \")\n",
        "    while user_choice not in options:\n",
        "        user_choice = input(\"Invalid choice. Please enter rock, paper, or scissors: \")\n",
        "    return user_choice\n",
        "\n",
        "def get_computer_choice():\n",
        "    options = ['rock', 'paper', 'scissors']\n",
        "    return random.choice(options)\n",
        "\n",
        "def determine_winner(user_choice, computer_choice):\n",
        "    if user_choice == computer_choice:\n",
        "        return \"It's a tie!\"\n",
        "    elif user_choice == 'rock' and computer_choice == 'scissors':\n",
        "        return \"You win!\"\n",
        "    elif user_choice == 'paper' and computer_choice == 'rock':\n",
        "        return \"You win!\"\n",
        "    elif user_choice == 'scissors' and computer_choice == 'paper':\n",
        "        return \"You win\"\n",
        "    else:\n",
        "        return \"Computer wins\"\n",
        "\n",
        "def main():\n",
        "    user_choice = get_user_choice()\n",
        "\n",
        "    computer_choice = get_computer_choice()\n",
        "    print(f\"You chose {user_choice}.\")\n",
        "    print(f\"The computer chose {computer_choice}.\")\n",
        "    winner = determine_winner(user_choice, computer_choice)\n",
        "    print(winner)\n",
        "\n",
        "if __name__ == \"__main__\":\n",
        "    main()"
      ]
    }
  ]
}